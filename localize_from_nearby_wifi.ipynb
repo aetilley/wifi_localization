{
 "cells": [
  {
   "cell_type": "code",
   "execution_count": 1,
   "metadata": {
    "collapsed": true
   },
   "outputs": [],
   "source": [
    "import os\n",
    "import re"
   ]
  },
  {
   "cell_type": "markdown",
   "metadata": {},
   "source": [
    "The following will determine that you have a sqlite database."
   ]
  },
  {
   "cell_type": "code",
   "execution_count": 18,
   "metadata": {
    "collapsed": false
   },
   "outputs": [
    {
     "name": "stdout",
     "output_type": "stream",
     "text": [
      "You don't appear to have the us.sqlite database.  \n",
      "Please download https://cdn.radiocells.org/us.sqlite ,\n",
      "and put the database in the ./data/ directory.\n",
      "\n"
     ]
    }
   ],
   "source": [
    "if \"us.slite\" in os.listdir(\"data\"):\n",
    "    print \"You appear to have the us.sqlite database in the correct location.\"\n",
    "else:\n",
    "    print \"\"\"You don't appear to have the us.sqlite database.  \n",
    "Please download https://cdn.radiocells.org/us.sqlite ,\n",
    "and put the database in the ./data/ directory.\n",
    "\"\"\""
   ]
  },
  {
   "cell_type": "markdown",
   "metadata": {},
   "source": [
    "The following cell will determine if you have sqlite3."
   ]
  },
  {
   "cell_type": "code",
   "execution_count": 19,
   "metadata": {
    "collapsed": false
   },
   "outputs": [
    {
     "name": "stdout",
     "output_type": "stream",
     "text": [
      "You have sqlite3.\n"
     ]
    }
   ],
   "source": [
    "if \"sqlite3\" in os.listdir(\"/usr/bin/\"):\n",
    "    print \"You have sqlite3.\"\n",
    "else:\n",
    "    print \"\"\"You don't appear to have sqlite3.  You can download it here: https://www.sqlite.org/download.html\n",
    "If you think you already have it in a nonstandard location, you can try running the commands below anyway.\"\"\""
   ]
  },
  {
   "cell_type": "markdown",
   "metadata": {},
   "source": [
    "The following will build the localization binary. This will probably print nothing if everything goes well."
   ]
  },
  {
   "cell_type": "code",
   "execution_count": 20,
   "metadata": {
    "collapsed": false
   },
   "outputs": [
    {
     "name": "stdout",
     "output_type": "stream",
     "text": [
      "\n"
     ]
    }
   ],
   "source": [
    "build_command = \"g++ localization_main.cc lib/estimation_functions.cc lib/query_functions.cc -o localization -std=c++11 -l sqlite3\"\n",
    "with os.popen(build_command) as build_output:\n",
    "    print build_output.read()"
   ]
  },
  {
   "cell_type": "markdown",
   "metadata": {},
   "source": [
    "The following will get get all nearby bssids and corresponding rssis.  Currently only apple airport is supported, although this should be straightforward to do with the linux 'iw' command."
   ]
  },
  {
   "cell_type": "code",
   "execution_count": 22,
   "metadata": {
    "collapsed": false
   },
   "outputs": [
    {
     "name": "stdout",
     "output_type": "stream",
     "text": [
      "000D67369A83 -73 000D67369A82 -73 000D67369A81 -73 0290A90EAA63 -44 2C3033CDF2D2 -54 CE2E48F50FAA -82 BC2E48F50FAA -82 4C3275C4C4CD -86 CE2E48F50FA9 -66 0690A90EAA61 -36 0290A90EAA61 -32 BC2E48F50FA9 -63 6455B18A34D0 -71 2C3033C23FBB -53 1C497B133AAB -39 CAFEC0DEF00D -37\n"
     ]
    }
   ],
   "source": [
    "def process_raw_lines_from_apple_airport(raw_lines, as_string):\n",
    "    items = list()\n",
    "    pat = r\"([a-z0-9]{2}:){5}[a-z0-9]{2} -[0-9]+\"\n",
    "    for line in raw_lines:\n",
    "        m = re.search(pat, line)\n",
    "        if m:\n",
    "            items.append(m.group(0).upper().replace(\":\", \"\"))\n",
    "    if as_string:\n",
    "        return \" \".join(items)\n",
    "    else:\n",
    "        return items\n",
    "\n",
    "def get_bssids_and_rssis_via_apple_airport(as_string = True):\n",
    "    airport_command = \"/System/Library/PrivateFrameworks/Apple80211.framework/Versions/Current/Resources/airport -s\"\n",
    "    with os.popen(airport_command) as f:\n",
    "        raw_lines = f.readlines()\n",
    "    result_string = process_raw_lines_from_apple_airport(raw_lines, as_string)\n",
    "    return result_string\n",
    "\n",
    "bssids_and_rssis = get_bssids_and_rssis_via_apple_airport()\n",
    "\n",
    "print bssids_and_rssis"
   ]
  },
  {
   "cell_type": "markdown",
   "metadata": {},
   "source": [
    "The following command will run the localization program with the preceeding bssids/rssis and print the output.  If any of your local bssids were found in the database, your coordinate estimate will be printed at the bottom."
   ]
  },
  {
   "cell_type": "code",
   "execution_count": 24,
   "metadata": {
    "collapsed": false
   },
   "outputs": [
    {
     "name": "stdout",
     "output_type": "stream",
     "text": [
      "Attempting to look up the following points:\n",
      "BSSID 000D67369A83\n",
      "RSSI -73\n",
      "BSSID 000D67369A82\n",
      "RSSI -73\n",
      "BSSID 000D67369A81\n",
      "RSSI -73\n",
      "BSSID 0290A90EAA63\n",
      "RSSI -44\n",
      "BSSID 2C3033CDF2D2\n",
      "RSSI -54\n",
      "BSSID CE2E48F50FAA\n",
      "RSSI -82\n",
      "BSSID BC2E48F50FAA\n",
      "RSSI -82\n",
      "BSSID 4C3275C4C4CD\n",
      "RSSI -86\n",
      "BSSID CE2E48F50FA9\n",
      "RSSI -66\n",
      "BSSID 0690A90EAA61\n",
      "RSSI -36\n",
      "BSSID 0290A90EAA61\n",
      "RSSI -32\n",
      "BSSID BC2E48F50FA9\n",
      "RSSI -63\n",
      "BSSID 6455B18A34D0\n",
      "RSSI -71\n",
      "BSSID 2C3033C23FBB\n",
      "RSSI -53\n",
      "BSSID 1C497B133AAB\n",
      "RSSI -39\n",
      "BSSID CAFEC0DEF00D\n",
      "RSSI -37\n",
      "Found record: \n",
      "_id = 295822003\n",
      "bssid = CAFEC0DEF00D\n",
      "manufactor = NULL\n",
      "md5essid = NULL\n",
      "latitude = 37.760849622041\n",
      "longitude = -122.419518811837\n",
      "source = openbmap\n",
      "measurements = 98\n",
      "last_updated = 2016-12-18\n",
      "created_at = 2016-12-18\n",
      "\n",
      "Found record: \n",
      "_id = 296505675\n",
      "bssid = CAFEC0DEF00D\n",
      "manufactor = NULL\n",
      "md5essid = NULL\n",
      "latitude = 37.760582671538\n",
      "longitude = -122.419172378462\n",
      "source = openbmap\n",
      "measurements = 26\n",
      "last_updated = 2017-01-22\n",
      "created_at = 2017-01-22\n",
      "\n",
      "Found record: \n",
      "_id = 303018528\n",
      "bssid = CAFEC0DEF00D\n",
      "manufactor = NULL\n",
      "md5essid = NULL\n",
      "latitude = 37.814191852903\n",
      "longitude = -122.264648626452\n",
      "source = openbmap\n",
      "measurements = 62\n",
      "last_updated = 2017-11-04\n",
      "created_at = 2017-11-04\n",
      "\n",
      "Found the following matching records:\n",
      "bssid: CAFEC0DEF00D\n",
      "last_updated: 2016-12-18\n",
      "latitude: 37.7608\n",
      "longitude: -122.42\n",
      "bssid: CAFEC0DEF00D\n",
      "last_updated: 2017-01-22\n",
      "latitude: 37.7606\n",
      "longitude: -122.419\n",
      "bssid: CAFEC0DEF00D\n",
      "last_updated: 2017-11-04\n",
      "latitude: 37.8142\n",
      "longitude: -122.265\n",
      "\n",
      "Coordinate estimate: \n",
      "Latitude = 37.778541\n",
      "Longitude = -122.367780\n",
      "\n"
     ]
    }
   ],
   "source": [
    "localize_command = \"./localization \" + bssids_and_rssis\n",
    "with os.popen(localize_command) as g:\n",
    "    print g.read()"
   ]
  }
 ],
 "metadata": {
  "anaconda-cloud": {},
  "kernelspec": {
   "display_name": "Python [default]",
   "language": "python",
   "name": "python2"
  },
  "language_info": {
   "codemirror_mode": {
    "name": "ipython",
    "version": 2
   },
   "file_extension": ".py",
   "mimetype": "text/x-python",
   "name": "python",
   "nbconvert_exporter": "python",
   "pygments_lexer": "ipython2",
   "version": "2.7.12"
  }
 },
 "nbformat": 4,
 "nbformat_minor": 1
}
