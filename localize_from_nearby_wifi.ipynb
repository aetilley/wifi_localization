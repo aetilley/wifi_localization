{
 "cells": [
  {
   "cell_type": "markdown",
   "metadata": {},
   "source": [
    "This notebook is meant as a guide to testing out wifi localization on the MAC addresses that are visible from your local wifi interface.\n",
    "\n",
    "You should start by cloning this repository, and running this notebook from inside the cloned directory."
   ]
  },
  {
   "cell_type": "code",
   "execution_count": 1,
   "metadata": {
    "collapsed": true
   },
   "outputs": [],
   "source": [
    "import os\n",
    "import re"
   ]
  },
  {
   "cell_type": "markdown",
   "metadata": {},
   "source": [
    "The following will determine that you have a sqlite database."
   ]
  },
  {
   "cell_type": "code",
   "execution_count": 2,
   "metadata": {
    "collapsed": false
   },
   "outputs": [
    {
     "name": "stdout",
     "output_type": "stream",
     "text": [
      "You appear to have the us.sqlite database in the correct location.\n"
     ]
    }
   ],
   "source": [
    "if \"us.sqlite\" in os.listdir(\"data\"):\n",
    "    print \"You appear to have the us.sqlite database in the correct location.\"\n",
    "else:\n",
    "    print \"\"\"You don't appear to have the us.sqlite database.  \n",
    "Please download https://cdn.radiocells.org/us.sqlite ,\n",
    "and put the database in the ./data/ directory.\n",
    "\"\"\""
   ]
  },
  {
   "cell_type": "markdown",
   "metadata": {},
   "source": [
    "The following cell will determine if you have sqlite3."
   ]
  },
  {
   "cell_type": "code",
   "execution_count": 3,
   "metadata": {
    "collapsed": false
   },
   "outputs": [
    {
     "name": "stdout",
     "output_type": "stream",
     "text": [
      "You have sqlite3.\n"
     ]
    }
   ],
   "source": [
    "if \"sqlite3\" in os.listdir(\"/usr/bin/\"):\n",
    "    print \"You have sqlite3.\"\n",
    "else:\n",
    "    print \"\"\"You don't appear to have sqlite3.  You can download it here: https://www.sqlite.org/download.html\n",
    "If you think you already have it in a nonstandard location, you can try running the commands below anyway.\"\"\""
   ]
  },
  {
   "cell_type": "markdown",
   "metadata": {},
   "source": [
    "The following will build the localization binary. This will probably print nothing if everything goes well."
   ]
  },
  {
   "cell_type": "code",
   "execution_count": 10,
   "metadata": {
    "collapsed": false
   },
   "outputs": [
    {
     "name": "stdout",
     "output_type": "stream",
     "text": [
      "\n"
     ]
    }
   ],
   "source": [
    "build_command = \"g++ localization_main.cc lib/estimation_functions.cc lib/query_functions.cc lib/drop_old.cc -o localization -std=c++11 -l sqlite3\"\n",
    "with os.popen(build_command) as build_output:\n",
    "    print build_output.read()"
   ]
  },
  {
   "cell_type": "markdown",
   "metadata": {},
   "source": [
    "The following will get get all nearby bssids and corresponding rssis."
   ]
  },
  {
   "cell_type": "markdown",
   "metadata": {},
   "source": [
    "On Mac OS:"
   ]
  },
  {
   "cell_type": "code",
   "execution_count": 5,
   "metadata": {
    "collapsed": false
   },
   "outputs": [
    {
     "name": "stdout",
     "output_type": "stream",
     "text": [
      "4C3275C4C4CC -73 2C3033C23FBB -42 149182F78003 -80 B8C75D08C365 -79 3412980827F4 -73 A47AA41D18B0 -76 CE2E48F50FA9 -58 0690A90EAA61 -29 BC2E48F50FA9 -60 6455B18A34D0 -66 1C497B133AAB -44 EAFCAF9C9905 -82 E8FCAF9C9904 -83 2C3033CDF2D2 -51 CE2E48F50FAA -82 BC2E48F50FAA -82 0290A90EAA63 -48 000D67369A83 -77 000D67369A82 -77 000D67369A81 -77 CAFEC0DEF00D -32\n"
     ]
    }
   ],
   "source": [
    "def process_raw_lines_from_apple_airport(raw_lines):\n",
    "    items = list()\n",
    "    pat = r\"([a-z0-9]{2}:){5}[a-z0-9]{2} -[0-9]+\"\n",
    "    for line in raw_lines:\n",
    "        m = re.search(pat, line)\n",
    "        if m:\n",
    "            items.append(m.group(0).upper().replace(\":\", \"\"))\n",
    "    return items\n",
    "\n",
    "def get_bssids_and_rssis_via_apple_airport():\n",
    "    airport_command = \"/System/Library/PrivateFrameworks/Apple80211.framework/Versions/Current/Resources/airport -s\"\n",
    "    with os.popen(airport_command) as f:\n",
    "        raw_lines = f.readlines()\n",
    "    results = process_raw_lines_from_apple_airport(raw_lines)\n",
    "    return \" \".join(results)\n",
    "\n",
    "bssids_and_rssis = get_bssids_and_rssis_via_apple_airport()\n",
    "\n",
    "print bssids_and_rssis"
   ]
  },
  {
   "cell_type": "markdown",
   "metadata": {},
   "source": [
    "On Linux:"
   ]
  },
  {
   "cell_type": "code",
   "execution_count": null,
   "metadata": {
    "collapsed": false
   },
   "outputs": [],
   "source": [
    "WIFI_INTERFACE_NAME = 'wlan0'\n",
    "\n",
    "def process_raw_lines_from_linux_iw(raw_lines):\n",
    "    items = list()\n",
    "    bss_pat = r\"([a-z0-9]{2}:){5}[a-z0-9]{2}\"\n",
    "    rssi_pat = r\"signal: (-[0-9]+.[0-9]+) dBm\"\n",
    "    \n",
    "    start_indices = [i for i in range(len(raw_lines)) if re.search(bss_pat, raw_lines[i])]\n",
    "    for i in range(len(start_indices)):\n",
    "        start_index = start_indices[i]\n",
    "        next_start_index = start_indices[i+1] if i+1 < len(start_indices) else len(raw_lines)\n",
    "        bssid = re.search(bss_pat, raw_lines[start_index]).group(0).upper().replace(\":\", \"\")\n",
    "        for j in range(start_index, next_start_index):\n",
    "            m = re.search(rssi_pat, raw_lines[j])\n",
    "            if m:\n",
    "                rssi = m.group(1)\n",
    "                break\n",
    "        items.append(bssid + \" \" + rssi)\n",
    "    return items\n",
    "\n",
    "\n",
    "def get_bssids_and_rssis_via_linux_iw():\n",
    "    iw_command = \"sudo iw \" + WIFI_INTERFACE_NAME + \" scan\"\n",
    "    with os.popen(iw_command) as f:\n",
    "        raw_lines = f.readlines()\n",
    "    result_list = process_raw_lines_from_linux_iw(raw_lines)\n",
    "    return \" \".join(result_list)\n",
    "\n",
    "bssids_and_rssis = get_bssids_and_rssis_via_linux_iw()\n",
    "\n",
    "print bssids_and_rssis"
   ]
  },
  {
   "cell_type": "markdown",
   "metadata": {},
   "source": [
    "The following command will run the localization program with the preceding bssids/rssis and print the output.  If any of your local bssids were found in the database, your coordinate estimate will be printed at the bottom."
   ]
  },
  {
   "cell_type": "code",
   "execution_count": 11,
   "metadata": {
    "collapsed": false
   },
   "outputs": [
    {
     "name": "stdout",
     "output_type": "stream",
     "text": [
      "Querying database for the following BSSIDs:\n",
      "BSSID 4C3275C4C4CC\n",
      "RSSI -73\n",
      "BSSID 2C3033C23FBB\n",
      "RSSI -42\n",
      "BSSID 149182F78003\n",
      "RSSI -80\n",
      "BSSID B8C75D08C365\n",
      "RSSI -79\n",
      "BSSID 3412980827F4\n",
      "RSSI -73\n",
      "BSSID A47AA41D18B0\n",
      "RSSI -76\n",
      "BSSID CE2E48F50FA9\n",
      "RSSI -58\n",
      "BSSID 0690A90EAA61\n",
      "RSSI -29\n",
      "BSSID BC2E48F50FA9\n",
      "RSSI -60\n",
      "BSSID 6455B18A34D0\n",
      "RSSI -66\n",
      "BSSID 1C497B133AAB\n",
      "RSSI -44\n",
      "BSSID EAFCAF9C9905\n",
      "RSSI -82\n",
      "BSSID E8FCAF9C9904\n",
      "RSSI -83\n",
      "BSSID 2C3033CDF2D2\n",
      "RSSI -51\n",
      "BSSID CE2E48F50FAA\n",
      "RSSI -82\n",
      "BSSID BC2E48F50FAA\n",
      "RSSI -82\n",
      "BSSID 0290A90EAA63\n",
      "RSSI -48\n",
      "BSSID 000D67369A83\n",
      "RSSI -77\n",
      "BSSID 000D67369A82\n",
      "RSSI -77\n",
      "BSSID 000D67369A81\n",
      "RSSI -77\n",
      "BSSID CAFEC0DEF00D\n",
      "RSSI -32\n",
      "\n",
      "Found record: \n",
      "_id = 295822003\n",
      "bssid = CAFEC0DEF00D\n",
      "manufactor = NULL\n",
      "md5essid = NULL\n",
      "latitude = 37.760849622041\n",
      "longitude = -122.419518811837\n",
      "source = openbmap\n",
      "measurements = 98\n",
      "last_updated = 2016-12-18\n",
      "created_at = 2016-12-18\n",
      "\n",
      "Found record: \n",
      "_id = 296505675\n",
      "bssid = CAFEC0DEF00D\n",
      "manufactor = NULL\n",
      "md5essid = NULL\n",
      "latitude = 37.760582671538\n",
      "longitude = -122.419172378462\n",
      "source = openbmap\n",
      "measurements = 26\n",
      "last_updated = 2017-01-22\n",
      "created_at = 2017-01-22\n",
      "\n",
      "Found record: \n",
      "_id = 303018528\n",
      "bssid = CAFEC0DEF00D\n",
      "manufactor = NULL\n",
      "md5essid = NULL\n",
      "latitude = 37.814191852903\n",
      "longitude = -122.264648626452\n",
      "source = openbmap\n",
      "measurements = 62\n",
      "last_updated = 2017-11-04\n",
      "created_at = 2017-11-04\n",
      "\n",
      "Considering bssid CAFEC0DEF00D\n",
      "Date_t is: 1482048000\n",
      "Date_t 140732679272296 is < date_t 1482048000\n",
      "Considering bssid CAFEC0DEF00D\n",
      "Date_t is: 1485072000\n",
      "Date_t 1482048000 is < date_t 1485072000\n",
      "Considering bssid CAFEC0DEF00D\n",
      "Date_t is: 1509782400\n",
      "Date_t 1485072000 is < date_t 1509782400\n",
      "Found the following matching records (taking latest for each BSSID):\n",
      "bssid: CAFEC0DEF00D\n",
      "last_updated: 2017-11-04\n",
      "latitude: 37.8142\n",
      "longitude: -122.265\n",
      "\n",
      "Coordinate estimate: \n",
      "Latitude = 37.814192\n",
      "Longitude = -122.264649\n",
      "\n"
     ]
    }
   ],
   "source": [
    "localize_command = \"./localization \" + bssids_and_rssis\n",
    "with os.popen(localize_command) as g:\n",
    "    print g.read()"
   ]
  },
  {
   "cell_type": "code",
   "execution_count": null,
   "metadata": {
    "collapsed": true
   },
   "outputs": [],
   "source": []
  }
 ],
 "metadata": {
  "anaconda-cloud": {},
  "kernelspec": {
   "display_name": "Python [default]",
   "language": "python",
   "name": "python2"
  },
  "language_info": {
   "codemirror_mode": {
    "name": "ipython",
    "version": 2
   },
   "file_extension": ".py",
   "mimetype": "text/x-python",
   "name": "python",
   "nbconvert_exporter": "python",
   "pygments_lexer": "ipython2",
   "version": "2.7.12"
  }
 },
 "nbformat": 4,
 "nbformat_minor": 1
}
