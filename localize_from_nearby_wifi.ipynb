{
 "cells": [
  {
   "cell_type": "code",
   "execution_count": null,
   "metadata": {
    "collapsed": true
   },
   "outputs": [],
   "source": [
    "import os\n",
    "import re"
   ]
  },
  {
   "cell_type": "markdown",
   "metadata": {},
   "source": [
    "The following will determine that you have a sqlite database."
   ]
  },
  {
   "cell_type": "code",
   "execution_count": null,
   "metadata": {
    "collapsed": false
   },
   "outputs": [],
   "source": [
    "if \"us.slite\" in os.listdir(\"data\"):\n",
    "    print \"You appear to have the us.sqlite database in the correct location.\"\n",
    "else:\n",
    "    print \"\"\"You don't appear to have the us.sqlite database.  \n",
    "Please download https://cdn.radiocells.org/us.sqlite ,\n",
    "and put the database in the ./data/ directory.\n",
    "\"\"\""
   ]
  },
  {
   "cell_type": "markdown",
   "metadata": {},
   "source": [
    "The following cell will determine if you have sqlite3."
   ]
  },
  {
   "cell_type": "code",
   "execution_count": null,
   "metadata": {
    "collapsed": false
   },
   "outputs": [],
   "source": [
    "if \"sqlite3\" in os.listdir(\"/usr/bin/\"):\n",
    "    print \"You have sqlite3.\"\n",
    "else:\n",
    "    print \"\"\"You don't appear to have sqlite3.  You can download it here: https://www.sqlite.org/download.html\n",
    "If you think you already have it in a nonstandard location, you can try running the commands below anyway.\"\"\""
   ]
  },
  {
   "cell_type": "markdown",
   "metadata": {},
   "source": [
    "The following will build the localization binary. This will probably print nothing if everything goes well."
   ]
  },
  {
   "cell_type": "code",
   "execution_count": null,
   "metadata": {
    "collapsed": false
   },
   "outputs": [],
   "source": [
    "build_command = \"g++ localization_main.cc lib/estimation_functions.cc lib/query_functions.cc -o localization -std=c++11 -l sqlite3\"\n",
    "with os.popen(build_command) as build_output:\n",
    "    print build_output.read()"
   ]
  },
  {
   "cell_type": "markdown",
   "metadata": {},
   "source": [
    "The following will get get all nearby bssids and corresponding rssis.  Currently only apple airport is supported, although this should be straightforward to do with the linux 'iw' command."
   ]
  },
  {
   "cell_type": "code",
   "execution_count": null,
   "metadata": {
    "collapsed": false
   },
   "outputs": [],
   "source": [
    "def process_raw_lines_from_apple_airport(raw_lines, as_string):\n",
    "    items = list()\n",
    "    pat = r\"([a-z0-9]{2}:){5}[a-z0-9]{2} -[0-9]+\"\n",
    "    for line in raw_lines:\n",
    "        m = re.search(pat, line)\n",
    "        if m:\n",
    "            items.append(m.group(0).upper().replace(\":\", \"\"))\n",
    "    if as_string:\n",
    "        return \" \".join(items)\n",
    "    else:\n",
    "        return items\n",
    "\n",
    "def get_bssids_and_rssis_via_apple_airport(as_string = True):\n",
    "    airport_command = \"/System/Library/PrivateFrameworks/Apple80211.framework/Versions/Current/Resources/airport -s\"\n",
    "    with os.popen(airport_command) as f:\n",
    "        raw_lines = f.readlines()\n",
    "    result_string = process_raw_lines_from_apple_airport(raw_lines, as_string)\n",
    "    return result_string\n",
    "\n",
    "bssids_and_rssis = get_bssids_and_rssis_via_apple_airport()\n",
    "\n",
    "print bssids_and_rssis"
   ]
  },
  {
   "cell_type": "markdown",
   "metadata": {},
   "source": [
    "The following command will run the localization program with the preceeding bssids/rssis and print the output.  If any of your local bssids were found in the database, your coordinate estimate will be printed at the bottom."
   ]
  },
  {
   "cell_type": "code",
   "execution_count": null,
   "metadata": {
    "collapsed": false
   },
   "outputs": [],
   "source": [
    "localize_command = \"./localization \" + bssids_and_rssis\n",
    "with os.popen(localize_command) as g:\n",
    "    print g.read()"
   ]
  }
 ],
 "metadata": {
  "anaconda-cloud": {},
  "kernelspec": {
   "display_name": "Python [default]",
   "language": "python",
   "name": "python2"
  },
  "language_info": {
   "codemirror_mode": {
    "name": "ipython",
    "version": 2
   },
   "file_extension": ".py",
   "mimetype": "text/x-python",
   "name": "python",
   "nbconvert_exporter": "python",
   "pygments_lexer": "ipython2",
   "version": "2.7.12"
  }
 },
 "nbformat": 4,
 "nbformat_minor": 1
}
