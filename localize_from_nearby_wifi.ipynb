{
 "cells": [
  {
   "cell_type": "code",
   "execution_count": null,
   "metadata": {
    "collapsed": true
   },
   "outputs": [],
   "source": [
    "import os\n",
    "import re"
   ]
  },
  {
   "cell_type": "markdown",
   "metadata": {},
   "source": [
    "The following will determine that you have a sqlite database."
   ]
  },
  {
   "cell_type": "code",
   "execution_count": null,
   "metadata": {
    "collapsed": false
   },
   "outputs": [],
   "source": [
    "if \"us.sqlite\" in os.listdir(\"data\"):\n",
    "    print \"You appear to have the us.sqlite database in the correct location.\"\n",
    "else:\n",
    "    print \"\"\"You don't appear to have the us.sqlite database.  \n",
    "Please download https://cdn.radiocells.org/us.sqlite ,\n",
    "and put the database in the ./data/ directory.\n",
    "\"\"\""
   ]
  },
  {
   "cell_type": "markdown",
   "metadata": {},
   "source": [
    "The following cell will determine if you have sqlite3."
   ]
  },
  {
   "cell_type": "code",
   "execution_count": null,
   "metadata": {
    "collapsed": false
   },
   "outputs": [],
   "source": [
    "if \"sqlite3\" in os.listdir(\"/usr/bin/\"):\n",
    "    print \"You have sqlite3.\"\n",
    "else:\n",
    "    print \"\"\"You don't appear to have sqlite3.  You can download it here: https://www.sqlite.org/download.html\n",
    "If you think you already have it in a nonstandard location, you can try running the commands below anyway.\"\"\""
   ]
  },
  {
   "cell_type": "markdown",
   "metadata": {},
   "source": [
    "The following will build the localization binary. This will probably print nothing if everything goes well."
   ]
  },
  {
   "cell_type": "code",
   "execution_count": null,
   "metadata": {
    "collapsed": false
   },
   "outputs": [],
   "source": [
    "build_command = \"g++ localization_main.cc lib/estimation_functions.cc lib/query_functions.cc -o localization -std=c++11 -l sqlite3\"\n",
    "with os.popen(build_command) as build_output:\n",
    "    print build_output.read()"
   ]
  },
  {
   "cell_type": "markdown",
   "metadata": {},
   "source": [
    "The following will get get all nearby bssids and corresponding rssis."
   ]
  },
  {
   "cell_type": "markdown",
   "metadata": {},
   "source": [
    "On Mac OS:"
   ]
  },
  {
   "cell_type": "code",
   "execution_count": null,
   "metadata": {
    "collapsed": false
   },
   "outputs": [],
   "source": [
    "def process_raw_lines_from_apple_airport(raw_lines):\n",
    "    items = list()\n",
    "    pat = r\"([a-z0-9]{2}:){5}[a-z0-9]{2} -[0-9]+\"\n",
    "    for line in raw_lines:\n",
    "        m = re.search(pat, line)\n",
    "        if m:\n",
    "            items.append(m.group(0).upper().replace(\":\", \"\"))\n",
    "    return items\n",
    "\n",
    "def get_bssids_and_rssis_via_apple_airport():\n",
    "    airport_command = \"/System/Library/PrivateFrameworks/Apple80211.framework/Versions/Current/Resources/airport -s\"\n",
    "    with os.popen(airport_command) as f:\n",
    "        raw_lines = f.readlines()\n",
    "    results = process_raw_lines_from_apple_airport(raw_lines)\n",
    "    return \" \".join(results)\n",
    "\n",
    "bssids_and_rssis = get_bssids_and_rssis_via_apple_airport()\n",
    "\n",
    "print bssids_and_rssis"
   ]
  },
  {
   "cell_type": "markdown",
   "metadata": {},
   "source": [
    "On Linux:"
   ]
  },
  {
   "cell_type": "code",
   "execution_count": null,
   "metadata": {
    "collapsed": false
   },
   "outputs": [],
   "source": [
    "WIFI_INTERFACE_NAME = 'wlan0'\n",
    "\n",
    "def process_raw_lines_from_linux_iw(raw_lines):\n",
    "    items = list()\n",
    "    bss_pat = r\"([a-z0-9]{2}:){5}[a-z0-9]{2}\"\n",
    "    rssi_pat = r\"signal: (-[0-9]+.[0-9]+) dBm\"\n",
    "    \n",
    "    start_indices = [i for i in range(len(raw_lines)) if re.search(bss_pat, raw_lines[i])]\n",
    "    for i in range(len(start_indices)):\n",
    "        start_index = start_indices[i]\n",
    "        next_start_index = start_indices[i+1] if i+1 < len(start_indices) else len(raw_lines)\n",
    "        bssid = re.search(bss_pat, raw_lines[start_index]).group(0).upper().replace(\":\", \"\")\n",
    "        for j in range(start_index, next_start_index):\n",
    "            m = re.search(rssi_pat, raw_lines[j])\n",
    "            if m:\n",
    "                rssi = m.group(1)\n",
    "                break\n",
    "        items.append(bssid + \" \" + rssi)\n",
    "    return items\n",
    "\n",
    "\n",
    "def get_bssids_and_rssis_via_linux_iw():\n",
    "    iw_command = \"sudo iw \" + WIFI_INTERFACE_NAME + \" scan\"\n",
    "    with os.popen(iw_command) as f:\n",
    "        raw_lines = f.readlines()\n",
    "    result_list = process_raw_lines_from_linux_iw(raw_lines)\n",
    "    return \" \".join(result_list)\n",
    "\n",
    "bssids_and_rssis = get_bssids_and_rssis_via_linux_iw()\n",
    "\n",
    "print bssids_and_rssis"
   ]
  },
  {
   "cell_type": "markdown",
   "metadata": {},
   "source": [
    "The following command will run the localization program with the preceeding bssids/rssis and print the output.  If any of your local bssids were found in the database, your coordinate estimate will be printed at the bottom."
   ]
  },
  {
   "cell_type": "code",
   "execution_count": null,
   "metadata": {
    "collapsed": false
   },
   "outputs": [],
   "source": [
    "localize_command = \"./localization \" + bssids_and_rssis\n",
    "with os.popen(localize_command) as g:\n",
    "    print g.read()"
   ]
  }
 ],
 "metadata": {
  "anaconda-cloud": {},
  "kernelspec": {
   "display_name": "Python [default]",
   "language": "python",
   "name": "python2"
  },
  "language_info": {
   "codemirror_mode": {
    "name": "ipython",
    "version": 2
   },
   "file_extension": ".py",
   "mimetype": "text/x-python",
   "name": "python",
   "nbconvert_exporter": "python",
   "pygments_lexer": "ipython2",
   "version": "2.7.12"
  }
 },
 "nbformat": 4,
 "nbformat_minor": 1
}
